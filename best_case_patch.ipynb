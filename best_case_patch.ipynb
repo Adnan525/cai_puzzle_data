{
 "cells": [
  {
   "cell_type": "code",
   "execution_count": 4,
   "id": "57e83b6a-4922-4a58-8912-ea3ae0d9292b",
   "metadata": {},
   "outputs": [],
   "source": [
    "import pandas as pd\n",
    "import re"
   ]
  },
  {
   "cell_type": "code",
   "execution_count": 2,
   "id": "0bedbc0f-2d9b-4f0f-ba16-4e32bd2a5239",
   "metadata": {},
   "outputs": [
    {
     "data": {
      "text/html": [
       "<div>\n",
       "<style scoped>\n",
       "    .dataframe tbody tr th:only-of-type {\n",
       "        vertical-align: middle;\n",
       "    }\n",
       "\n",
       "    .dataframe tbody tr th {\n",
       "        vertical-align: top;\n",
       "    }\n",
       "\n",
       "    .dataframe thead th {\n",
       "        text-align: right;\n",
       "    }\n",
       "</style>\n",
       "<table border=\"1\" class=\"dataframe\">\n",
       "  <thead>\n",
       "    <tr style=\"text-align: right;\">\n",
       "      <th></th>\n",
       "      <th>setup</th>\n",
       "      <th>FEN</th>\n",
       "      <th>next_move_number</th>\n",
       "      <th>moves</th>\n",
       "      <th>result</th>\n",
       "      <th>player</th>\n",
       "      <th>best_case</th>\n",
       "    </tr>\n",
       "  </thead>\n",
       "  <tbody>\n",
       "    <tr>\n",
       "      <th>0</th>\n",
       "      <td>1</td>\n",
       "      <td>1R6/p3k1p1/2p2b2/2Pn4/1BQPB3/P7/6PP/3q2K1 w - ...</td>\n",
       "      <td>33</td>\n",
       "      <td>33. Qf1 Bxd4+ 34. Kh1 Qxf1</td>\n",
       "      <td>0-1</td>\n",
       "      <td>Black</td>\n",
       "      <td>2</td>\n",
       "    </tr>\n",
       "    <tr>\n",
       "      <th>1</th>\n",
       "      <td>1</td>\n",
       "      <td>2r3k1/p4p1p/4pp2/1b6/pP1P3P/P3PN2/2rN1PP1/R3K2...</td>\n",
       "      <td>20</td>\n",
       "      <td>20. d5 Rc1+ 21. Rxc1 Rxc1</td>\n",
       "      <td>0-1</td>\n",
       "      <td>Black</td>\n",
       "      <td>2</td>\n",
       "    </tr>\n",
       "    <tr>\n",
       "      <th>2</th>\n",
       "      <td>1</td>\n",
       "      <td>4r1k1/1pR3p1/p2pn1qp/8/PPBP4/1QP1n3/3N2PP/5RK1...</td>\n",
       "      <td>26</td>\n",
       "      <td>26. Rff7 Qxg2</td>\n",
       "      <td>0-1</td>\n",
       "      <td>Black</td>\n",
       "      <td>1</td>\n",
       "    </tr>\n",
       "    <tr>\n",
       "      <th>3</th>\n",
       "      <td>1</td>\n",
       "      <td>5r1k/p1p3pp/1p4p1/2n1P3/2B3P1/1P2r2P/P5K1/3R1R...</td>\n",
       "      <td>1</td>\n",
       "      <td>1... Rxf1 2. Rd8+ Rf8 3. Rxf8</td>\n",
       "      <td>1-0</td>\n",
       "      <td>White</td>\n",
       "      <td>3</td>\n",
       "    </tr>\n",
       "    <tr>\n",
       "      <th>4</th>\n",
       "      <td>1</td>\n",
       "      <td>3q3k/p2R3p/1p3bpB/8/2r3P1/5Q1P/PPP2PK1/8 b - -...</td>\n",
       "      <td>1</td>\n",
       "      <td>1... Qxd7 2. Qxf6+ Kg8 3. Qf8</td>\n",
       "      <td>1-0</td>\n",
       "      <td>White</td>\n",
       "      <td>3</td>\n",
       "    </tr>\n",
       "  </tbody>\n",
       "</table>\n",
       "</div>"
      ],
      "text/plain": [
       "   setup                                                FEN  next_move_number  \\\n",
       "0      1  1R6/p3k1p1/2p2b2/2Pn4/1BQPB3/P7/6PP/3q2K1 w - ...                33   \n",
       "1      1  2r3k1/p4p1p/4pp2/1b6/pP1P3P/P3PN2/2rN1PP1/R3K2...                20   \n",
       "2      1  4r1k1/1pR3p1/p2pn1qp/8/PPBP4/1QP1n3/3N2PP/5RK1...                26   \n",
       "3      1  5r1k/p1p3pp/1p4p1/2n1P3/2B3P1/1P2r2P/P5K1/3R1R...                 1   \n",
       "4      1  3q3k/p2R3p/1p3bpB/8/2r3P1/5Q1P/PPP2PK1/8 b - -...                 1   \n",
       "\n",
       "                           moves result player  best_case  \n",
       "0     33. Qf1 Bxd4+ 34. Kh1 Qxf1    0-1  Black          2  \n",
       "1      20. d5 Rc1+ 21. Rxc1 Rxc1    0-1  Black          2  \n",
       "2                  26. Rff7 Qxg2    0-1  Black          1  \n",
       "3  1... Rxf1 2. Rd8+ Rf8 3. Rxf8    1-0  White          3  \n",
       "4  1... Qxd7 2. Qxf6+ Kg8 3. Qf8    1-0  White          3  "
      ]
     },
     "execution_count": 2,
     "metadata": {},
     "output_type": "execute_result"
    }
   ],
   "source": [
    "df = pd.read_csv(\"puzzle_data.csv\")\n",
    "df.head()"
   ]
  },
  {
   "cell_type": "code",
   "execution_count": 3,
   "id": "97dfe318-8312-4b9f-9df5-5882ba89dfda",
   "metadata": {},
   "outputs": [
    {
     "data": {
      "text/plain": [
       "'33. Qf1 Bxd4+ 34. Kh1 Qxf1'"
      ]
     },
     "execution_count": 3,
     "metadata": {},
     "output_type": "execute_result"
    }
   ],
   "source": [
    "df[\"moves\"][0]"
   ]
  },
  {
   "cell_type": "code",
   "execution_count": 21,
   "id": "508ff3dc-c1b5-4599-8dd9-77db7face738",
   "metadata": {},
   "outputs": [
    {
     "data": {
      "text/plain": [
       "['33. ', '34. ']"
      ]
     },
     "execution_count": 21,
     "metadata": {},
     "output_type": "execute_result"
    }
   ],
   "source": [
    "re.findall(r\"\\d+\\.{1}\\s\", df[\"moves\"][0])"
   ]
  },
  {
   "cell_type": "code",
   "execution_count": 30,
   "id": "4ceda31f-7ee0-482f-8618-1e61632d3c36",
   "metadata": {},
   "outputs": [
    {
     "data": {
      "text/html": [
       "<div>\n",
       "<style scoped>\n",
       "    .dataframe tbody tr th:only-of-type {\n",
       "        vertical-align: middle;\n",
       "    }\n",
       "\n",
       "    .dataframe tbody tr th {\n",
       "        vertical-align: top;\n",
       "    }\n",
       "\n",
       "    .dataframe thead th {\n",
       "        text-align: right;\n",
       "    }\n",
       "</style>\n",
       "<table border=\"1\" class=\"dataframe\">\n",
       "  <thead>\n",
       "    <tr style=\"text-align: right;\">\n",
       "      <th></th>\n",
       "      <th>moves</th>\n",
       "      <th>best_case</th>\n",
       "      <th>player</th>\n",
       "    </tr>\n",
       "  </thead>\n",
       "  <tbody>\n",
       "    <tr>\n",
       "      <th>0</th>\n",
       "      <td>33. Qf1 Bxd4+ 34. Kh1 Qxf1</td>\n",
       "      <td>2</td>\n",
       "      <td>Black</td>\n",
       "    </tr>\n",
       "    <tr>\n",
       "      <th>1</th>\n",
       "      <td>20. d5 Rc1+ 21. Rxc1 Rxc1</td>\n",
       "      <td>2</td>\n",
       "      <td>Black</td>\n",
       "    </tr>\n",
       "    <tr>\n",
       "      <th>2</th>\n",
       "      <td>26. Rff7 Qxg2</td>\n",
       "      <td>1</td>\n",
       "      <td>Black</td>\n",
       "    </tr>\n",
       "    <tr>\n",
       "      <th>3</th>\n",
       "      <td>1... Rxf1 2. Rd8+ Rf8 3. Rxf8</td>\n",
       "      <td>3</td>\n",
       "      <td>White</td>\n",
       "    </tr>\n",
       "    <tr>\n",
       "      <th>4</th>\n",
       "      <td>1... Qxd7 2. Qxf6+ Kg8 3. Qf8</td>\n",
       "      <td>3</td>\n",
       "      <td>White</td>\n",
       "    </tr>\n",
       "  </tbody>\n",
       "</table>\n",
       "</div>"
      ],
      "text/plain": [
       "                           moves  best_case player\n",
       "0     33. Qf1 Bxd4+ 34. Kh1 Qxf1          2  Black\n",
       "1      20. d5 Rc1+ 21. Rxc1 Rxc1          2  Black\n",
       "2                  26. Rff7 Qxg2          1  Black\n",
       "3  1... Rxf1 2. Rd8+ Rf8 3. Rxf8          3  White\n",
       "4  1... Qxd7 2. Qxf6+ Kg8 3. Qf8          3  White"
      ]
     },
     "execution_count": 30,
     "metadata": {},
     "output_type": "execute_result"
    }
   ],
   "source": [
    "target = df[[\"moves\", \"best_case\", \"player\"]]\n",
    "target.head()"
   ]
  },
  {
   "cell_type": "code",
   "execution_count": 23,
   "id": "d616bbdc-eb47-4665-8538-e1deea59efe9",
   "metadata": {},
   "outputs": [
    {
     "data": {
      "text/plain": [
       "(40, 2)"
      ]
     },
     "execution_count": 23,
     "metadata": {},
     "output_type": "execute_result"
    }
   ],
   "source": [
    "target.shape"
   ]
  },
  {
   "cell_type": "code",
   "execution_count": 41,
   "id": "193c95a8-ad1d-479e-9657-9756e343ffbb",
   "metadata": {},
   "outputs": [
    {
     "name": "stdout",
     "output_type": "stream",
     "text": [
      "[INFO] Action required at row 3, player : White\n",
      "[INFO] Action required at row 4, player : White\n",
      "[INFO] Action required at row 7, player : White\n",
      "[INFO] Action required at row 8, player : White\n",
      "[INFO] Action required at row 9, player : White\n",
      "[INFO] Action required at row 12, player : White\n",
      "[INFO] Action required at row 14, player : White\n",
      "[INFO] Action required at row 16, player : White\n",
      "[INFO] Action required at row 18, player : White\n",
      "[INFO] Action required at row 21, player : White\n",
      "[INFO] Action required at row 24, player : White\n",
      "[INFO] Action required at row 26, player : White\n",
      "[INFO] Action required at row 28, player : White\n",
      "[INFO] Action required at row 30, player : White\n",
      "[INFO] Action required at row 33, player : White\n",
      "[INFO] Action required at row 34, player : White\n",
      "[INFO] Action required at row 37, player : White\n",
      "[INFO] Action required at row 38, player : White\n",
      "[INFO] 18 row/s need/s to be fixed\n"
     ]
    }
   ],
   "source": [
    "count = 0\n",
    "rows = []\n",
    "for i in range(40):\n",
    "    numbers = re.findall(r\"\\d+\\.{1}\\s\", df[\"moves\"][i])\n",
    "    if len(numbers) == df[\"best_case\"][i]:\n",
    "        pass\n",
    "    else:\n",
    "        rows.append(i)\n",
    "        print(f\"[INFO] Action required at row {i}, player : {df['player'][i]}\")\n",
    "        count+=1\n",
    "\n",
    "print(f\"[INFO] {count} row/s need/s to be fixed\")"
   ]
  },
  {
   "cell_type": "code",
   "execution_count": 39,
   "id": "c14a853c-5cf5-416c-b15a-f841d002c87f",
   "metadata": {},
   "outputs": [
    {
     "data": {
      "text/plain": [
       "18"
      ]
     },
     "execution_count": 39,
     "metadata": {},
     "output_type": "execute_result"
    }
   ],
   "source": [
    "list(df[\"player\"]).count(\"White\")"
   ]
  },
  {
   "cell_type": "markdown",
   "id": "0fe7156d-12b6-4da7-bcd2-1b152d74ce83",
   "metadata": {},
   "source": [
    "## So all white rows need fixing"
   ]
  },
  {
   "cell_type": "code",
   "execution_count": 43,
   "id": "d7d23245-e899-4af0-a7fc-915f6a5bf39c",
   "metadata": {},
   "outputs": [
    {
     "name": "stdout",
     "output_type": "stream",
     "text": [
      "1... Rxf1 2. Rd8+ Rf8 3. Rxf8\n",
      "1... Qxd7 2. Qxf6+ Kg8 3. Qf8\n",
      "8... h6 9. Qc8\n",
      "22... Nd4 23. Qxf7\n",
      "11... gxh6 12. Qh5+ Ke7 13. Qf7\n",
      "16... a6 17. Nf6+ Ke7 18. Rd7\n",
      "1... Rc1 2. Ng6+ hxg6 3. Rh4\n",
      "21... Kf8 22. Rxe8+ Kxe8 23. Qg8\n",
      "36... Kg4 37. h3+ Kh4 38. Rxf4\n",
      "28... Na6 29. Qf6+ Rg7 30. Qxg7\n",
      "39... Ka5 40. Rb5+ Ka4 41. Ra6\n",
      "16... Qe7 17. Nf6+ gxf6 18. Qh7\n",
      "19... Qxa2 20. Qxg7\n",
      "1... Qxd5 2. Qf6 Qd7 3. Qf8+ Rxf8 4. Rxf8\n",
      "1... Rxe3 2. Rh8+ Kg7 3. R1h7\n",
      "31... Kg7 32. Rg8\n",
      "42... Nxc3 43. h5+ Kf6 44. g5\n",
      "1... Kg6 2. Qxe6+ Kg5 3. Qf5+ Kh4 4. Qh5\n"
     ]
    }
   ],
   "source": [
    "for index in rows:\n",
    "    print(df[\"moves\"][index])"
   ]
  },
  {
   "cell_type": "code",
   "execution_count": null,
   "id": "c088a5b2-6503-403b-ae63-638a09b38566",
   "metadata": {},
   "outputs": [],
   "source": []
  },
  {
   "cell_type": "code",
   "execution_count": null,
   "id": "3e310c36-24b1-435f-8bc9-321c3c980d09",
   "metadata": {},
   "outputs": [],
   "source": []
  }
 ],
 "metadata": {
  "kernelspec": {
   "display_name": "Python 3 (ipykernel)",
   "language": "python",
   "name": "python3"
  },
  "language_info": {
   "codemirror_mode": {
    "name": "ipython",
    "version": 3
   },
   "file_extension": ".py",
   "mimetype": "text/x-python",
   "name": "python",
   "nbconvert_exporter": "python",
   "pygments_lexer": "ipython3",
   "version": "3.10.13"
  }
 },
 "nbformat": 4,
 "nbformat_minor": 5
}
