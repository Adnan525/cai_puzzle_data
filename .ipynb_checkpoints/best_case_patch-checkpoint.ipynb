{
 "cells": [
  {
   "cell_type": "code",
   "execution_count": 4,
   "id": "57e83b6a-4922-4a58-8912-ea3ae0d9292b",
   "metadata": {},
   "outputs": [],
   "source": [
    "import pandas as pd\n",
    "import re"
   ]
  },
  {
   "cell_type": "code",
   "execution_count": 2,
   "id": "0bedbc0f-2d9b-4f0f-ba16-4e32bd2a5239",
   "metadata": {},
   "outputs": [
    {
     "data": {
      "text/html": [
       "<div>\n",
       "<style scoped>\n",
       "    .dataframe tbody tr th:only-of-type {\n",
       "        vertical-align: middle;\n",
       "    }\n",
       "\n",
       "    .dataframe tbody tr th {\n",
       "        vertical-align: top;\n",
       "    }\n",
       "\n",
       "    .dataframe thead th {\n",
       "        text-align: right;\n",
       "    }\n",
       "</style>\n",
       "<table border=\"1\" class=\"dataframe\">\n",
       "  <thead>\n",
       "    <tr style=\"text-align: right;\">\n",
       "      <th></th>\n",
       "      <th>setup</th>\n",
       "      <th>FEN</th>\n",
       "      <th>next_move_number</th>\n",
       "      <th>moves</th>\n",
       "      <th>result</th>\n",
       "      <th>player</th>\n",
       "      <th>best_case</th>\n",
       "    </tr>\n",
       "  </thead>\n",
       "  <tbody>\n",
       "    <tr>\n",
       "      <th>0</th>\n",
       "      <td>1</td>\n",
       "      <td>1R6/p3k1p1/2p2b2/2Pn4/1BQPB3/P7/6PP/3q2K1 w - ...</td>\n",
       "      <td>33</td>\n",
       "      <td>33. Qf1 Bxd4+ 34. Kh1 Qxf1</td>\n",
       "      <td>0-1</td>\n",
       "      <td>Black</td>\n",
       "      <td>2</td>\n",
       "    </tr>\n",
       "    <tr>\n",
       "      <th>1</th>\n",
       "      <td>1</td>\n",
       "      <td>2r3k1/p4p1p/4pp2/1b6/pP1P3P/P3PN2/2rN1PP1/R3K2...</td>\n",
       "      <td>20</td>\n",
       "      <td>20. d5 Rc1+ 21. Rxc1 Rxc1</td>\n",
       "      <td>0-1</td>\n",
       "      <td>Black</td>\n",
       "      <td>2</td>\n",
       "    </tr>\n",
       "    <tr>\n",
       "      <th>2</th>\n",
       "      <td>1</td>\n",
       "      <td>4r1k1/1pR3p1/p2pn1qp/8/PPBP4/1QP1n3/3N2PP/5RK1...</td>\n",
       "      <td>26</td>\n",
       "      <td>26. Rff7 Qxg2</td>\n",
       "      <td>0-1</td>\n",
       "      <td>Black</td>\n",
       "      <td>1</td>\n",
       "    </tr>\n",
       "    <tr>\n",
       "      <th>3</th>\n",
       "      <td>1</td>\n",
       "      <td>5r1k/p1p3pp/1p4p1/2n1P3/2B3P1/1P2r2P/P5K1/3R1R...</td>\n",
       "      <td>1</td>\n",
       "      <td>1... Rxf1 2. Rd8+ Rf8 3. Rxf8</td>\n",
       "      <td>1-0</td>\n",
       "      <td>White</td>\n",
       "      <td>3</td>\n",
       "    </tr>\n",
       "    <tr>\n",
       "      <th>4</th>\n",
       "      <td>1</td>\n",
       "      <td>3q3k/p2R3p/1p3bpB/8/2r3P1/5Q1P/PPP2PK1/8 b - -...</td>\n",
       "      <td>1</td>\n",
       "      <td>1... Qxd7 2. Qxf6+ Kg8 3. Qf8</td>\n",
       "      <td>1-0</td>\n",
       "      <td>White</td>\n",
       "      <td>3</td>\n",
       "    </tr>\n",
       "  </tbody>\n",
       "</table>\n",
       "</div>"
      ],
      "text/plain": [
       "   setup                                                FEN  next_move_number  \\\n",
       "0      1  1R6/p3k1p1/2p2b2/2Pn4/1BQPB3/P7/6PP/3q2K1 w - ...                33   \n",
       "1      1  2r3k1/p4p1p/4pp2/1b6/pP1P3P/P3PN2/2rN1PP1/R3K2...                20   \n",
       "2      1  4r1k1/1pR3p1/p2pn1qp/8/PPBP4/1QP1n3/3N2PP/5RK1...                26   \n",
       "3      1  5r1k/p1p3pp/1p4p1/2n1P3/2B3P1/1P2r2P/P5K1/3R1R...                 1   \n",
       "4      1  3q3k/p2R3p/1p3bpB/8/2r3P1/5Q1P/PPP2PK1/8 b - -...                 1   \n",
       "\n",
       "                           moves result player  best_case  \n",
       "0     33. Qf1 Bxd4+ 34. Kh1 Qxf1    0-1  Black          2  \n",
       "1      20. d5 Rc1+ 21. Rxc1 Rxc1    0-1  Black          2  \n",
       "2                  26. Rff7 Qxg2    0-1  Black          1  \n",
       "3  1... Rxf1 2. Rd8+ Rf8 3. Rxf8    1-0  White          3  \n",
       "4  1... Qxd7 2. Qxf6+ Kg8 3. Qf8    1-0  White          3  "
      ]
     },
     "execution_count": 2,
     "metadata": {},
     "output_type": "execute_result"
    }
   ],
   "source": [
    "df = pd.read_csv(\"puzzle_data.csv\")\n",
    "df.head()"
   ]
  },
  {
   "cell_type": "code",
   "execution_count": 3,
   "id": "97dfe318-8312-4b9f-9df5-5882ba89dfda",
   "metadata": {},
   "outputs": [
    {
     "data": {
      "text/plain": [
       "'33. Qf1 Bxd4+ 34. Kh1 Qxf1'"
      ]
     },
     "execution_count": 3,
     "metadata": {},
     "output_type": "execute_result"
    }
   ],
   "source": [
    "df[\"moves\"][0]"
   ]
  },
  {
   "cell_type": "code",
   "execution_count": 11,
   "id": "508ff3dc-c1b5-4599-8dd9-77db7face738",
   "metadata": {},
   "outputs": [
    {
     "data": {
      "text/plain": [
       "['33.']"
      ]
     },
     "execution_count": 11,
     "metadata": {},
     "output_type": "execute_result"
    }
   ],
   "source": [
    "re.findall(r\"(^\\d+\\.{1}\\s)\", df[\"moves\"][0], )"
   ]
  }
 ],
 "metadata": {
  "kernelspec": {
   "display_name": "Python 3 (ipykernel)",
   "language": "python",
   "name": "python3"
  },
  "language_info": {
   "codemirror_mode": {
    "name": "ipython",
    "version": 3
   },
   "file_extension": ".py",
   "mimetype": "text/x-python",
   "name": "python",
   "nbconvert_exporter": "python",
   "pygments_lexer": "ipython3",
   "version": "3.10.13"
  }
 },
 "nbformat": 4,
 "nbformat_minor": 5
}
